{
 "cells": [
  {
   "cell_type": "code",
   "execution_count": null,
   "outputs": [],
   "source": [
    "!pip install pandas\n",
    "!pip install wordcloud\n",
    "!pip install matplotlib"
   ],
   "metadata": {
    "collapsed": false
   },
   "id": "c411151ca1aecc56"
  },
  {
   "cell_type": "code",
   "execution_count": null,
   "outputs": [],
   "source": [
    "import pandas as pd\n",
    "from wordcloud import WordCloud\n",
    "import matplotlib.pyplot as plt\n",
    "\n",
    "# Load the dataset\n",
    "file_path = './../data/EuRepoC_Global_Database_1.1.csv'  # Replace with your file path\n",
    "data = pd.read_csv(file_path)\n"
   ],
   "metadata": {
    "collapsed": false
   },
   "id": "b1bb5836f38daa76"
  },
  {
   "cell_type": "code",
   "execution_count": null,
   "outputs": [],
   "source": [
    "# Create a word cloud from the 'name' column\n",
    "name_text = \" \".join(name for name in data.name.dropna())\n",
    "\n",
    "# Generate word cloud for the 'name' column\n",
    "name_wordcloud = WordCloud(width = 800, height = 800, \n",
    "                           background_color ='white', \n",
    "                           min_font_size = 10).generate(name_text)\n",
    "\n",
    "# Plot the word cloud for the 'name' column\n",
    "plt.figure(figsize = (8, 8), facecolor = None) \n",
    "plt.imshow(name_wordcloud) \n",
    "plt.axis(\"off\") \n",
    "plt.tight_layout(pad = 0)"
   ],
   "metadata": {
    "collapsed": false
   },
   "id": "96c83f3f0ba4d315"
  },
  {
   "cell_type": "code",
   "execution_count": null,
   "outputs": [],
   "source": [
    "# Create a word cloud from the 'description' column\n",
    "description_text = \" \".join(description for description in data.description.dropna())\n",
    "\n",
    "# Generate word cloud for the 'name' column\n",
    "name_wordcloud = WordCloud(width = 800, height = 800, \n",
    "                           background_color ='white', \n",
    "                           min_font_size = 10).generate(name_text)\n",
    "\n",
    "# Plot the word cloud for the 'name' column\n",
    "plt.figure(figsize = (8, 8), facecolor = None) \n",
    "plt.imshow(name_wordcloud) \n",
    "plt.axis(\"off\") \n",
    "plt.tight_layout(pad = 0)"
   ],
   "metadata": {
    "collapsed": false
   },
   "id": "f00b5f665036a182"
  },
  {
   "cell_type": "code",
   "execution_count": null,
   "outputs": [],
   "source": [],
   "metadata": {
    "collapsed": false
   },
   "id": "7217eb851b963c36"
  }
 ],
 "metadata": {
  "kernelspec": {
   "display_name": "Python 3",
   "language": "python",
   "name": "python3"
  },
  "language_info": {
   "codemirror_mode": {
    "name": "ipython",
    "version": 2
   },
   "file_extension": ".py",
   "mimetype": "text/x-python",
   "name": "python",
   "nbconvert_exporter": "python",
   "pygments_lexer": "ipython2",
   "version": "2.7.6"
  }
 },
 "nbformat": 4,
 "nbformat_minor": 5
}
